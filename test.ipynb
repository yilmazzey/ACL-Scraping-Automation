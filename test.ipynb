{
 "cells": [
  {
   "cell_type": "code",
   "execution_count": 5,
   "metadata": {},
   "outputs": [],
   "source": [
    "import os\n",
    "import time\n",
    "from selenium import webdriver\n",
    "from selenium.webdriver.common.by import By\n",
    "from selenium.webdriver.chrome.options import Options \n",
    "from selenium.webdriver.support.ui import WebDriverWait\n",
    "from selenium.webdriver.support import expected_conditions as EC #expilicit wait"
   ]
  },
  {
   "cell_type": "code",
   "execution_count": null,
   "metadata": {},
   "outputs": [],
   "source": [
    "from google.oauth2.credentials import Credentials\n",
    "from googleapiclient.discovery import build\n",
    "from googleapiclient.http import MediaFileUpload"
   ]
  },
  {
   "cell_type": "code",
   "execution_count": null,
   "metadata": {},
   "outputs": [],
   "source": [
    "# Step 1: Authenticate with Google Drive API\n",
    "SCOPES = ['https://www.googleapis.com/auth/drive.file']"
   ]
  },
  {
   "cell_type": "code",
   "execution_count": null,
   "metadata": {},
   "outputs": [],
   "source": [
    "#hızlı olsun diye, js link veya butonu çıkarsa js engelini kaldır\n",
    "options = Options()\n",
    "prefs = {\"profile.default_content_setting_values\": {\"images\": 2, \"javascript\": 2}}  # Block images and JS\n",
    "options.headless = True # Run in headless mode\n",
    "options.add_experimental_option(\"prefs\", prefs)\n",
    "driver = webdriver.Chrome(options=options)"
   ]
  },
  {
   "cell_type": "code",
   "execution_count": null,
   "metadata": {},
   "outputs": [],
   "source": [
    "driver.get(\"https://aclanthology.org\")\n",
    "driver.implicitly_wait(15)"
   ]
  },
  {
   "cell_type": "code",
   "execution_count": null,
   "metadata": {},
   "outputs": [],
   "source": [
    "# Locate the table containing the event links\n",
    "try:\n",
    "    table = driver.find_element(By.XPATH, \"//h6[text()='ACL Events']/following-sibling::table[contains(@class, 'table-hover')]\")\n",
    "    print(\"ACL Events table found successfully!\")\n",
    "except Exception as e:\n",
    "    print(f\"Error: Table not found. {e}\")"
   ]
  },
  {
   "cell_type": "code",
   "execution_count": null,
   "metadata": {},
   "outputs": [],
   "source": [
    "# If the table is found, find all <a> tags (links) within the table\n",
    "if table:\n",
    "    links = table.find_elements(By.TAG_NAME, \"a\")\n",
    "\n",
    "    # Loop through each link in the table\n",
    "    for link in links:\n",
    "        # Get the href attribute (the event URL) and the link text (the event name)\n",
    "        href = link.get_attribute(\"href\")\n",
    "        event_name = href.split(\"/\")[-2]  # Extract the event name (e.g., \"aacl\")\n",
    "\n",
    "        # Only process event names without a hyphen and with trailing \"/\"\n",
    "        if '-' not in event_name and href.endswith('/'):\n",
    "            # Remove trailing slash from the folder name\n",
    "            event_name = event_name.rstrip('/')\n",
    "\n",
    "            # Preview the folder name without creating it\n",
    "            print(f\"Folder name that would be created: {event_name}\")\n",
    "\n",
    "            # Optionally, preview the href links as well\n",
    "            print(f\"Link found: {href}\")\n",
    "\n",
    "            # Create the folder only if it has a trailing slash\n",
    "            #folder_path = os.path.join(base_dir, event_name)\n",
    "            #if not os.path.exists(folder_path):\n",
    "                #os.makedirs(folder_path)\n",
    "                #print(f\"Folder '{event_name}' created successfully.\")"
   ]
  },
  {
   "cell_type": "code",
   "execution_count": null,
   "metadata": {},
   "outputs": [],
   "source": [
    "table = driver.find_element(By.XPATH, \"//table[@class='table table-hover table-sm table-responsive small text-nowrap']\")\n",
    "\n",
    "events = table.find_elements(By.TAG_NAME, \"a\")\n",
    "\n",
    "# Loop through each link in the table\n",
    "for event in events:\n",
    "    # Get the href attribute (the event URL) and the link text (the event name)\n",
    "    href = event.get_attribute(\"href\")\n",
    "    event_name = href.split(\"/\")[-2]  # Extract the event name (e.g., \"aacl-2023\")\n",
    "\n",
    "    # Create a folder named after the event (if it doesn't exist already)\n",
    "    if not os.path.exists(event_name):\n",
    "        os.makedirs(event_name)\n",
    "        print(f\"Folder '{event_name}' created.\")\n",
    "\n",
    "\n",
    "\n",
    "    # İşlem bitince ana sayfaya dön\n",
    "    driver.back()\n",
    "    time.implicitly_wait(3)\n",
    "\n",
    "# Close the browser after completing the task\n",
    "driver.quit()"
   ]
  }
 ],
 "metadata": {
  "kernelspec": {
   "display_name": "Python 3",
   "language": "python",
   "name": "python3"
  },
  "language_info": {
   "codemirror_mode": {
    "name": "ipython",
    "version": 3
   },
   "file_extension": ".py",
   "mimetype": "text/x-python",
   "name": "python",
   "nbconvert_exporter": "python",
   "pygments_lexer": "ipython3",
   "version": "3.11.1"
  }
 },
 "nbformat": 4,
 "nbformat_minor": 2
}

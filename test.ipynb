{
 "cells": [
  {
   "cell_type": "code",
   "execution_count": 1,
   "metadata": {},
   "outputs": [],
   "source": [
    "import os\n",
    "import time\n",
    "from selenium import webdriver\n",
    "from selenium.webdriver.common.by import By\n",
    "from selenium.webdriver.chrome.options import Options \n",
    "from selenium.webdriver.support.ui import WebDriverWait\n",
    "from selenium.webdriver.support import expected_conditions as EC #expilicit wait"
   ]
  },
  {
   "cell_type": "code",
   "execution_count": 6,
   "metadata": {},
   "outputs": [],
   "source": [
    "from google.oauth2.credentials import Credentials\n",
    "from googleapiclient.discovery import build\n",
    "from googleapiclient.http import MediaFileUpload\n",
    "from google_auth_oauthlib.flow import InstalledAppFlow\n",
    "from google.auth.transport.requests import Request"
   ]
  },
  {
   "cell_type": "markdown",
   "metadata": {},
   "source": [
    "Google Drive Authentication"
   ]
  },
  {
   "cell_type": "code",
   "execution_count": 3,
   "metadata": {},
   "outputs": [],
   "source": [
    "#Authenticate with Google Drive API\n",
    "SCOPES = ['https://www.googleapis.com/auth/drive.file']"
   ]
  },
  {
   "cell_type": "code",
   "execution_count": 16,
   "metadata": {},
   "outputs": [],
   "source": [
    "# Authenticate with Google Drive\n",
    "def authenticate_google_drive():\n",
    "    creds = None\n",
    "    # The file token.json stores the user's access and refresh tokens, created during the first run\n",
    "    if os.path.exists('token.json'):\n",
    "        creds = Credentials.from_authorized_user_file('token.json', SCOPES)\n",
    "    # If there are no (valid) credentials available, let the user log in\n",
    "    if not creds or not creds.valid:\n",
    "        if creds and creds.expired and creds.refresh_token:\n",
    "            creds.refresh(Request())\n",
    "        else:\n",
    "            flow = InstalledAppFlow.from_client_secrets_file('credentials.json', SCOPES)\n",
    "            creds = flow.run_local_server(port=0)\n",
    "        # Save the credentials for future use\n",
    "        with open('token.json', 'w') as token:\n",
    "            token.write(creds.to_json())\n",
    "    \n",
    "    # Build the Google Drive API client\n",
    "    drive_service = build('drive', 'v3', credentials=creds)\n",
    "    return drive_service\n",
    "\n",
    "# Function to create a folder in Google Drive\n",
    "def create_folder_in_drive(service, folder_name, parent_folder_id=None):\n",
    "    folder_metadata = {\n",
    "        'name': folder_name,\n",
    "        'mimeType': 'application/vnd.google-apps.folder',\n",
    "    }\n",
    "    if parent_folder_id:\n",
    "        folder_metadata['parents'] = [parent_folder_id]\n",
    "\n",
    "    folder = service.files().create(body=folder_metadata, fields='id').execute()\n",
    "    print(f\"Folder '{folder_name}' created with ID: {folder.get('id')}\")\n",
    "    return folder.get('id')\n",
    "\n",
    "# Function to download a file\n",
    "def download_file(download_url, save_path):\n",
    "    response = requests.get(download_url)\n",
    "    if response.status_code == 200:\n",
    "        with open(save_path, 'wb') as file:\n",
    "            file.write(response.content)\n",
    "            print(f\"Downloaded: {save_path}\")\n",
    "    else:\n",
    "        print(f\"Failed to download: {download_url}\")\n",
    "\n",
    "# Function to navigate through volumes and download papers\n",
    "def download_papers_from_event(event_folder, driver):\n",
    "    # Find volume links in the event page (all <a> tags related to volumes)\n",
    "    volume_links = driver.find_elements(By.XPATH, \"//a[contains(text(), 'Volume')]\")\n",
    "    \n",
    "    for volume_link in volume_links:\n",
    "        volume_name = volume_link.text\n",
    "        print(f\"Navigating to volume: {volume_name}\")\n",
    "\n",
    "        # Click the volume link\n",
    "        volume_link.click()\n",
    "        time.sleep(2)  # Wait for the volume page to load\n",
    "\n",
    "        # Get all the paper links (adjust the XPath to fit the paper links)\n",
    "        paper_links = driver.find_elements(By.XPATH, \"//a[contains(text(), 'PDF')]\")  # Adjust if necessary\n",
    "        \n",
    "        # Create folder for this volume\n",
    "        volume_folder = os.path.join(event_folder, volume_name)\n",
    "        if not os.path.exists(volume_folder):\n",
    "            os.makedirs(volume_folder)\n",
    "\n",
    "        # Loop through each paper link and download the paper\n",
    "        for paper_link in paper_links:\n",
    "            paper_title = paper_link.text\n",
    "            paper_url = paper_link.get_attribute(\"href\")\n",
    "            paper_file_name = paper_title.replace(\" \", \"_\") + \".pdf\"\n",
    "\n",
    "            # Define the path to save the PDF file\n",
    "            save_path = os.path.join(volume_folder, paper_file_name)\n",
    "            download_file(paper_url, save_path)\n",
    "\n",
    "        # Go back to the event page\n",
    "        driver.back()\n",
    "        time.sleep(2)  # Wait for the event page to reload"
   ]
  },
  {
   "cell_type": "code",
   "execution_count": 9,
   "metadata": {},
   "outputs": [
    {
     "name": "stdout",
     "output_type": "stream",
     "text": [
      "Please visit this URL to authorize this application: https://accounts.google.com/o/oauth2/auth?response_type=code&client_id=474666803493-g96b49gl8mm8d77u8sg5sf72js5q5f56.apps.googleusercontent.com&redirect_uri=http%3A%2F%2Flocalhost%3A53074%2F&scope=https%3A%2F%2Fwww.googleapis.com%2Fauth%2Fdrive.file&state=QG68lTyDN09954Z2a61nwUg6P1GNoQ&access_type=offline\n"
     ]
    },
    {
     "ename": "KeyboardInterrupt",
     "evalue": "",
     "output_type": "error",
     "traceback": [
      "\u001b[0;31m---------------------------------------------------------------------------\u001b[0m",
      "\u001b[0;31mKeyboardInterrupt\u001b[0m                         Traceback (most recent call last)",
      "Cell \u001b[0;32mIn[9], line 1\u001b[0m\n\u001b[0;32m----> 1\u001b[0m drive_service \u001b[38;5;241m=\u001b[39m \u001b[43mauthenticate_google_drive\u001b[49m\u001b[43m(\u001b[49m\u001b[43m)\u001b[49m\n\u001b[1;32m      2\u001b[0m parent_folder_id \u001b[38;5;241m=\u001b[39m \u001b[38;5;124m'\u001b[39m\u001b[38;5;124m1WZ2l6ZT3Op4X7P95wrLt2P2asVxd6rMz\u001b[39m\u001b[38;5;124m'\u001b[39m\n",
      "Cell \u001b[0;32mIn[8], line 13\u001b[0m, in \u001b[0;36mauthenticate_google_drive\u001b[0;34m()\u001b[0m\n\u001b[1;32m     11\u001b[0m \u001b[38;5;28;01melse\u001b[39;00m:\n\u001b[1;32m     12\u001b[0m     flow \u001b[38;5;241m=\u001b[39m InstalledAppFlow\u001b[38;5;241m.\u001b[39mfrom_client_secrets_file(\u001b[38;5;124m'\u001b[39m\u001b[38;5;124mcredentials.json\u001b[39m\u001b[38;5;124m'\u001b[39m, SCOPES)\n\u001b[0;32m---> 13\u001b[0m     creds \u001b[38;5;241m=\u001b[39m \u001b[43mflow\u001b[49m\u001b[38;5;241;43m.\u001b[39;49m\u001b[43mrun_local_server\u001b[49m\u001b[43m(\u001b[49m\u001b[43mport\u001b[49m\u001b[38;5;241;43m=\u001b[39;49m\u001b[38;5;241;43m0\u001b[39;49m\u001b[43m)\u001b[49m\n\u001b[1;32m     14\u001b[0m \u001b[38;5;66;03m# Save the credentials for future use\u001b[39;00m\n\u001b[1;32m     15\u001b[0m \u001b[38;5;28;01mwith\u001b[39;00m \u001b[38;5;28mopen\u001b[39m(\u001b[38;5;124m'\u001b[39m\u001b[38;5;124mtoken.json\u001b[39m\u001b[38;5;124m'\u001b[39m, \u001b[38;5;124m'\u001b[39m\u001b[38;5;124mw\u001b[39m\u001b[38;5;124m'\u001b[39m) \u001b[38;5;28;01mas\u001b[39;00m token:\n",
      "File \u001b[0;32m/Library/Frameworks/Python.framework/Versions/3.11/lib/python3.11/site-packages/google_auth_oauthlib/flow.py:450\u001b[0m, in \u001b[0;36mInstalledAppFlow.run_local_server\u001b[0;34m(self, host, bind_addr, port, authorization_prompt_message, success_message, open_browser, redirect_uri_trailing_slash, timeout_seconds, token_audience, browser, **kwargs)\u001b[0m\n\u001b[1;32m    447\u001b[0m     \u001b[38;5;28mprint\u001b[39m(authorization_prompt_message\u001b[38;5;241m.\u001b[39mformat(url\u001b[38;5;241m=\u001b[39mauth_url))\n\u001b[1;32m    449\u001b[0m local_server\u001b[38;5;241m.\u001b[39mtimeout \u001b[38;5;241m=\u001b[39m timeout_seconds\n\u001b[0;32m--> 450\u001b[0m \u001b[43mlocal_server\u001b[49m\u001b[38;5;241;43m.\u001b[39;49m\u001b[43mhandle_request\u001b[49m\u001b[43m(\u001b[49m\u001b[43m)\u001b[49m\n\u001b[1;32m    452\u001b[0m \u001b[38;5;66;03m# Note: using https here because oauthlib is very picky that\u001b[39;00m\n\u001b[1;32m    453\u001b[0m \u001b[38;5;66;03m# OAuth 2.0 should only occur over https.\u001b[39;00m\n\u001b[1;32m    454\u001b[0m authorization_response \u001b[38;5;241m=\u001b[39m wsgi_app\u001b[38;5;241m.\u001b[39mlast_request_uri\u001b[38;5;241m.\u001b[39mreplace(\u001b[38;5;124m\"\u001b[39m\u001b[38;5;124mhttp\u001b[39m\u001b[38;5;124m\"\u001b[39m, \u001b[38;5;124m\"\u001b[39m\u001b[38;5;124mhttps\u001b[39m\u001b[38;5;124m\"\u001b[39m)\n",
      "File \u001b[0;32m/Library/Frameworks/Python.framework/Versions/3.11/lib/python3.11/socketserver.py:295\u001b[0m, in \u001b[0;36mBaseServer.handle_request\u001b[0;34m(self)\u001b[0m\n\u001b[1;32m    292\u001b[0m selector\u001b[38;5;241m.\u001b[39mregister(\u001b[38;5;28mself\u001b[39m, selectors\u001b[38;5;241m.\u001b[39mEVENT_READ)\n\u001b[1;32m    294\u001b[0m \u001b[38;5;28;01mwhile\u001b[39;00m \u001b[38;5;28;01mTrue\u001b[39;00m:\n\u001b[0;32m--> 295\u001b[0m     ready \u001b[38;5;241m=\u001b[39m \u001b[43mselector\u001b[49m\u001b[38;5;241;43m.\u001b[39;49m\u001b[43mselect\u001b[49m\u001b[43m(\u001b[49m\u001b[43mtimeout\u001b[49m\u001b[43m)\u001b[49m\n\u001b[1;32m    296\u001b[0m     \u001b[38;5;28;01mif\u001b[39;00m ready:\n\u001b[1;32m    297\u001b[0m         \u001b[38;5;28;01mreturn\u001b[39;00m \u001b[38;5;28mself\u001b[39m\u001b[38;5;241m.\u001b[39m_handle_request_noblock()\n",
      "File \u001b[0;32m/Library/Frameworks/Python.framework/Versions/3.11/lib/python3.11/selectors.py:415\u001b[0m, in \u001b[0;36m_PollLikeSelector.select\u001b[0;34m(self, timeout)\u001b[0m\n\u001b[1;32m    413\u001b[0m ready \u001b[38;5;241m=\u001b[39m []\n\u001b[1;32m    414\u001b[0m \u001b[38;5;28;01mtry\u001b[39;00m:\n\u001b[0;32m--> 415\u001b[0m     fd_event_list \u001b[38;5;241m=\u001b[39m \u001b[38;5;28;43mself\u001b[39;49m\u001b[38;5;241;43m.\u001b[39;49m\u001b[43m_selector\u001b[49m\u001b[38;5;241;43m.\u001b[39;49m\u001b[43mpoll\u001b[49m\u001b[43m(\u001b[49m\u001b[43mtimeout\u001b[49m\u001b[43m)\u001b[49m\n\u001b[1;32m    416\u001b[0m \u001b[38;5;28;01mexcept\u001b[39;00m \u001b[38;5;167;01mInterruptedError\u001b[39;00m:\n\u001b[1;32m    417\u001b[0m     \u001b[38;5;28;01mreturn\u001b[39;00m ready\n",
      "\u001b[0;31mKeyboardInterrupt\u001b[0m: "
     ]
    }
   ],
   "source": [
    "drive_service = authenticate_google_drive()\n",
    "parent_folder_id = '1WZ2l6ZT3Op4X7P95wrLt2P2asVxd6rMz'"
   ]
  },
  {
   "cell_type": "markdown",
   "metadata": {},
   "source": [
    "Selenium Konfigürasyonları"
   ]
  },
  {
   "cell_type": "code",
   "execution_count": 12,
   "metadata": {},
   "outputs": [],
   "source": [
    "#hızlı olsun diye, js link veya butonu çıkarsa js engelini kaldır\n",
    "options = Options()\n",
    "prefs = {\"profile.default_content_setting_values\": {\"images\": 2, \"javascript\": 2}}  # Block images and JS\n",
    "options.headless = True # Run in headless mode\n",
    "options.add_experimental_option(\"prefs\", prefs)\n",
    "driver = webdriver.Chrome(options=options)"
   ]
  },
  {
   "cell_type": "code",
   "execution_count": 13,
   "metadata": {},
   "outputs": [],
   "source": [
    "driver.get(\"https://aclanthology.org\")\n",
    "driver.implicitly_wait(15)"
   ]
  },
  {
   "cell_type": "code",
   "execution_count": 14,
   "metadata": {},
   "outputs": [
    {
     "name": "stdout",
     "output_type": "stream",
     "text": [
      "ACL Events table found successfully!\n"
     ]
    }
   ],
   "source": [
    "# Locate the table containing the event links\n",
    "try:\n",
    "    table = driver.find_element(By.XPATH, \"//h6[text()='ACL Events']/following-sibling::table[contains(@class, 'table-hover')]\")\n",
    "    print(\"ACL Events table found successfully!\")\n",
    "except Exception as e:\n",
    "    print(f\"Error: Table not found. {e}\")"
   ]
  },
  {
   "cell_type": "code",
   "execution_count": 15,
   "metadata": {},
   "outputs": [
    {
     "name": "stdout",
     "output_type": "stream",
     "text": [
      "Folder name that would be created: aacl\n",
      "Link found: https://aclanthology.org/venues/aacl/\n",
      "Folder name that would be created: acl\n",
      "Link found: https://aclanthology.org/venues/acl/\n",
      "Folder name that would be created: anlp\n",
      "Link found: https://aclanthology.org/venues/anlp/\n",
      "Folder name that would be created: cl\n",
      "Link found: https://aclanthology.org/venues/cl/\n",
      "Folder name that would be created: conll\n",
      "Link found: https://aclanthology.org/venues/conll/\n",
      "Folder name that would be created: eacl\n",
      "Link found: https://aclanthology.org/venues/eacl/\n",
      "Folder name that would be created: emnlp\n",
      "Link found: https://aclanthology.org/venues/emnlp/\n",
      "Folder name that would be created: findings\n",
      "Link found: https://aclanthology.org/venues/findings/\n",
      "Folder name that would be created: iwslt\n",
      "Link found: https://aclanthology.org/venues/iwslt/\n",
      "Folder name that would be created: naacl\n",
      "Link found: https://aclanthology.org/venues/naacl/\n",
      "Folder name that would be created: semeval\n",
      "Link found: https://aclanthology.org/venues/semeval/\n",
      "Folder name that would be created: starsem\n",
      "Link found: https://aclanthology.org/venues/starsem/\n",
      "Folder name that would be created: tacl\n",
      "Link found: https://aclanthology.org/venues/tacl/\n",
      "Folder name that would be created: wmt\n",
      "Link found: https://aclanthology.org/venues/wmt/\n",
      "Folder name that would be created: ws\n",
      "Link found: https://aclanthology.org/venues/ws/\n",
      "Folder name that would be created: sigann\n",
      "Link found: https://aclanthology.org/sigs/sigann/\n",
      "Folder name that would be created: sigbiomed\n",
      "Link found: https://aclanthology.org/sigs/sigbiomed/\n",
      "Folder name that would be created: sigdat\n",
      "Link found: https://aclanthology.org/sigs/sigdat/\n",
      "Folder name that would be created: sigdial\n",
      "Link found: https://aclanthology.org/sigs/sigdial/\n",
      "Folder name that would be created: sigedu\n",
      "Link found: https://aclanthology.org/sigs/sigedu/\n",
      "Folder name that would be created: sigel\n",
      "Link found: https://aclanthology.org/sigs/sigel/\n",
      "Folder name that would be created: sigfsm\n",
      "Link found: https://aclanthology.org/sigs/sigfsm/\n",
      "Folder name that would be created: siggen\n",
      "Link found: https://aclanthology.org/sigs/siggen/\n",
      "Folder name that would be created: sighan\n",
      "Link found: https://aclanthology.org/sigs/sighan/\n",
      "Folder name that would be created: sighum\n",
      "Link found: https://aclanthology.org/sigs/sighum/\n",
      "Folder name that would be created: siglex\n",
      "Link found: https://aclanthology.org/sigs/siglex/\n",
      "Folder name that would be created: sigmedia\n",
      "Link found: https://aclanthology.org/sigs/sigmedia/\n",
      "Folder name that would be created: sigmol\n",
      "Link found: https://aclanthology.org/sigs/sigmol/\n",
      "Folder name that would be created: sigmorphon\n",
      "Link found: https://aclanthology.org/sigs/sigmorphon/\n",
      "Folder name that would be created: sigmt\n",
      "Link found: https://aclanthology.org/sigs/sigmt/\n",
      "Folder name that would be created: signll\n",
      "Link found: https://aclanthology.org/sigs/signll/\n",
      "Folder name that would be created: sigparse\n",
      "Link found: https://aclanthology.org/sigs/sigparse/\n",
      "Folder name that would be created: sigrep\n",
      "Link found: https://aclanthology.org/sigs/sigrep/\n",
      "Folder name that would be created: sigsem\n",
      "Link found: https://aclanthology.org/sigs/sigsem/\n",
      "Folder name that would be created: semitic\n",
      "Link found: https://aclanthology.org/sigs/semitic/\n",
      "Folder name that would be created: sigslav\n",
      "Link found: https://aclanthology.org/sigs/sigslav/\n",
      "Folder name that would be created: sigslpat\n",
      "Link found: https://aclanthology.org/sigs/sigslpat/\n",
      "Folder name that would be created: sigslt\n",
      "Link found: https://aclanthology.org/sigs/sigslt/\n",
      "Folder name that would be created: sigtyp\n",
      "Link found: https://aclanthology.org/sigs/sigtyp/\n",
      "Folder name that would be created: sigul\n",
      "Link found: https://aclanthology.org/sigs/sigul/\n",
      "Folder name that would be created: sigur\n",
      "Link found: https://aclanthology.org/sigs/sigur/\n",
      "Folder name that would be created: sigwac\n",
      "Link found: https://aclanthology.org/sigs/sigwac/\n",
      "Folder name that would be created: sigwrit\n",
      "Link found: https://aclanthology.org/sigs/sigwrit/\n"
     ]
    }
   ],
   "source": [
    "# If the table is found, find all <a> tags (links) within the table\n",
    "if table:\n",
    "    links = table.find_elements(By.TAG_NAME, \"a\")\n",
    "\n",
    "    # Loop through each link in the table\n",
    "    for link in links:\n",
    "        # Get the href attribute (the event URL) and the link text (the event name)\n",
    "        href = link.get_attribute(\"href\")\n",
    "        event_name = href.split(\"/\")[-2]  # Extract the event name (e.g., \"aacl\")\n",
    "\n",
    "        # Only process event names without a hyphen and with trailing \"/\"\n",
    "        if '-' not in event_name and href.endswith('/'):\n",
    "            # Remove trailing slash from the folder name\n",
    "            event_name = event_name.rstrip('/')\n",
    "\n",
    "            # Preview the folder name without creating it\n",
    "            print(f\"Folder name that would be created: {event_name}\")\n",
    "\n",
    "            # Optionally, preview the href links as well\n",
    "            print(f\"Link found: {href}\")\n",
    "\n",
    "            #create_folder_in_drive(drive_service, event_name, parent_folder_id)"
   ]
  },
  {
   "cell_type": "code",
   "execution_count": null,
   "metadata": {},
   "outputs": [],
   "source": []
  }
 ],
 "metadata": {
  "kernelspec": {
   "display_name": "Python 3",
   "language": "python",
   "name": "python3"
  },
  "language_info": {
   "codemirror_mode": {
    "name": "ipython",
    "version": 3
   },
   "file_extension": ".py",
   "mimetype": "text/x-python",
   "name": "python",
   "nbconvert_exporter": "python",
   "pygments_lexer": "ipython3",
   "version": "3.11.1"
  }
 },
 "nbformat": 4,
 "nbformat_minor": 2
}
